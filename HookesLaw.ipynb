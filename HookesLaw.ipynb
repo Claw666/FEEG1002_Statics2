{
 "cells": [
  {
   "cell_type": "markdown",
   "metadata": {},
   "source": [
    "## FEEG1002 - Statics 2\n",
    "\n",
    "## Hooke's Law\n",
    "\n",
    "### Dr. Davis - fmd1f14@soton.ac.uk\n",
    "\n",
    "In this notebook, we're going to use Python/NumPy/Matplotlib to calculate the stress froms strains and vice versa. The notebook is split into three sections. The first section applies three-dimensional Hooke's Law, the second section considers the case of plane stress, and the final section the case of plane strain.  Inside each of the main sections, there is a sub-division one for calculating stress from strain and a second for calculating strains from stresses.  Use this notebook to check your answers to practice problems."
   ]
  },
  {
   "cell_type": "code",
   "execution_count": 64,
   "metadata": {
    "collapsed": false
   },
   "outputs": [
    {
     "name": "stdout",
     "output_type": "stream",
     "text": [
      "Populating the interactive namespace from numpy and matplotlib\n"
     ]
    }
   ],
   "source": [
    "# Load necessary functions\n",
    "%pylab inline\n",
    "\n",
    "# Print nice results\n",
    "from IPython.display import display, Math\n",
    "from sympy import Matrix, latex\n",
    "from sympy.interactive import printing\n",
    "printing.init_printing()"
   ]
  },
  {
   "cell_type": "markdown",
   "metadata": {},
   "source": [
    "## Section I: Three-dimensional Hooke's Law\n",
    "\n",
    "In <a href='https://blackboard.soton.ac.uk/bbcswebdav/courses/FEEG1002-29851-16-17/FEEG1002-S2-2016_Lecture5.pdf'>Lecture 5</a> and <a href='https://blackboard.soton.ac.uk/bbcswebdav/courses/FEEG1002-29851-16-17/FEEG1002-S2-2016_Lecture6_rev.pdf'>Lecture 6</a> we introduced Hooke's Law for isotropic materials.  Recall that an *isotropic material* is material where the mechanical properties are identical in all directions.  The assumption of isotropy is very good for most metals but would be inappropriate for most composites or materials that show some directionality such as wood.  In addition, we to derive Hooke's Law we assumed that the stress-strain response was linear and that the behaviour was elastic.\n",
    "\n",
    "The complete law with strain as a function of stress found:\n",
    "\n",
    "$$ \\epsilon_{xx} = \\frac{1}{E} \\left(\\sigma_{xx} - \\nu \\left(\\sigma_{yy}+\\sigma_{zz}\\right)\\right)$$\n",
    "$$ \\epsilon_{yy} = \\frac{1}{E} \\left(\\sigma_{yy} - \\nu \\left(\\sigma_{xx}+\\sigma_{zz}\\right)\\right)$$\n",
    "$$ \\epsilon_{zz} = \\frac{1}{E} \\left(\\sigma_{zz} - \\nu \\left(\\sigma_{yy}+\\sigma_{xx}\\right)\\right)$$\n",
    "$$\\epsilon_{xy} = \\frac{1+\\nu}{E} \\sigma_{xy}$$\n",
    "$$\\epsilon_{xz} = \\frac{1+\\nu}{E} \\sigma_{xz}$$\n",
    "$$\\epsilon_{yz} = \\frac{1+\\nu}{E} \\sigma_{yz}$$\n",
    "\n",
    "For convenience we also wrote Hooke's Law with stresses as a function of strain:\n",
    "$$ \\sigma_{xx} = \\frac{E}{\\left(1+\\nu\\right)\\left(1-2\\nu\\right)}\\left(\\left(1-\\nu\\right)\\epsilon_{xx} + \\nu \\left(\\epsilon_{yy} + \\epsilon_{zz}\\right)\\right)$$\n",
    "$$ \\sigma_{yy} = \\frac{E}{\\left(1+\\nu\\right)\\left(1-2\\nu\\right)}\\left(\\left(1-\\nu\\right)\\epsilon_{yy} + \\nu \\left(\\epsilon_{xx} + \\epsilon_{zz}\\right)\\right)$$\n",
    "$$ \\sigma_{zz} = \\frac{E}{\\left(1+\\nu\\right)\\left(1-2\\nu\\right)}\\left(\\left(1-\\nu\\right)\\epsilon_{zz} + \\nu \\left(\\epsilon_{yy} + \\epsilon_{xx}\\right)\\right)$$\n",
    "$$\\sigma_{xy} = \\frac{E}{1+\\nu} \\epsilon_{xy}$$\n",
    "$$\\sigma_{xz} = \\frac{E}{1+\\nu} \\epsilon_{xz}$$\n",
    "$$\\sigma_{yz} = \\frac{E}{1+\\nu} \\epsilon_{yz}$$\n",
    "\n"
   ]
  },
  {
   "cell_type": "code",
   "execution_count": 65,
   "metadata": {
    "collapsed": false
   },
   "outputs": [
    {
     "data": {
      "text/latex": [
       "$$\\begin{bmatrix}\\varepsilon_{xx} \\\\ \\varepsilon_{yy}\\\\ \\varepsilon_{zz}\\\\\\varepsilon_{xy}\\\\ \\varepsilon_{xz}\\\\ \\varepsilon_{yz}\\end{bmatrix}=\\left[\\begin{matrix}233.33\\\\88.89\\\\-55.56\\\\650.0\\\\187.78\\\\1256.67\\end{matrix}\\right]\\mu \\varepsilon$$"
      ],
      "text/plain": [
       "<IPython.core.display.Math object>"
      ]
     },
     "metadata": {},
     "output_type": "display_data"
    }
   ],
   "source": [
    "#Calculate strains from stresses\n",
    "\n",
    "#Input material properties\n",
    "E = 90000 #in MPa\n",
    "nu = 0.3\n",
    "\n",
    "#Input stresses in MPa\n",
    "sigmaxx=30\n",
    "sigmayy=20\n",
    "sigmazz=10\n",
    "sigmaxy=45\n",
    "sigmaxz=13\n",
    "sigmayz=87\n",
    "\n",
    "#Calculate the strains \n",
    "#Note that the equations have been re-written in a form for matrix computation\n",
    "stress_in = np.array([[sigmaxx],[sigmayy],[sigmazz],[sigmaxy],[sigmaxz],[sigmayz]])\n",
    "comp_mat = np.array([[1, -nu, -nu, 0, 0, 0], [-nu, 1, -nu, 0, 0, 0], [-nu, -nu, 1, 0, 0, 0], \n",
    "           [0, 0, 0, 1+nu, 0, 0], [0, 0, 0, 0, 1+nu, 0], [0, 0, 0, 0, 0, 1+nu]])\n",
    "strain_out = 1/E*comp_mat.dot(stress_in)*10**6\n",
    "strain_out = around(strain_out, 2)\n",
    "strain_print = Matrix([[strain_out[0]], [strain_out[1]], [strain_out[2]], \n",
    "                       [strain_out[3]], [strain_out[4]], [strain_out[5]]])\n",
    "display(Math(latex(r'\\begin{bmatrix}\\varepsilon_{xx} \\\\ \\varepsilon_{yy}\\\\ \\varepsilon_{zz}\\\\\n",
    "\\\\varepsilon_{xy}\\\\ \\varepsilon_{xz}\\\\ \\varepsilon_{yz}\\end{bmatrix}=') + latex(strain_print) + '\\mu \\\\varepsilon'))\n"
   ]
  },
  {
   "cell_type": "code",
   "execution_count": 66,
   "metadata": {
    "collapsed": false
   },
   "outputs": [
    {
     "data": {
      "text/latex": [
       "$$\\begin{bmatrix}\\sigma_{xx} \\\\ \\sigma_{yy}\\\\ \\sigma_{zz}\\\\\\sigma_{xy}\\\\ \\sigma_{xz}\\\\ \\sigma_{yz}\\end{bmatrix}=\\left[\\begin{matrix}29.58\\\\19.82\\\\9.78\\\\45.0\\\\13.02\\\\87.02\\end{matrix}\\right]\\mathrm{MPa}$$"
      ],
      "text/plain": [
       "<IPython.core.display.Math object>"
      ]
     },
     "metadata": {},
     "output_type": "display_data"
    }
   ],
   "source": [
    "#Calculate stresses from strains\n",
    "\n",
    "#Input material properties\n",
    "E = 90000 #in MPa\n",
    "nu = 0.3\n",
    "\n",
    "#Input strains as microstrain\n",
    "epsxx=230\n",
    "epsyy=89\n",
    "epszz=-56\n",
    "epsxy=650\n",
    "epsxz=188\n",
    "epsyz=1257\n",
    "\n",
    "#Calculate the stresses \n",
    "#Note that the equations have been re-written in a form for matrix computation\n",
    "strain_in = np.array([[epsxx],[epsyy],[epszz],[epsxy],[epsxz],[epsyz]])\n",
    "strain_in = strain_in*10**-6\n",
    "stiff_mat = np.array([[1-nu, nu, nu, 0, 0, 0], [nu, 1-nu, nu, 0, 0, 0], [nu, nu, 1-nu, 0, 0, 0], \n",
    "           [0, 0, 0, 1-2*nu, 0, 0], [0, 0, 0, 0, 1-2*nu, 0], [0, 0, 0, 0, 0, 1-2*nu]])\n",
    "stress_out = E/(1+nu)/(1-2*nu)*stiff_mat.dot(strain_in)\n",
    "stress_out = around(stress_out, 2)\n",
    "stress_print = Matrix([[stress_out[0]], [stress_out[1]], [stress_out[2]], \n",
    "                       [stress_out[3]], [stress_out[4]], [stress_out[5]]])\n",
    "display(Math(latex(r'\\begin{bmatrix}\\sigma_{xx} \\\\ \\sigma_{yy}\\\\ \\sigma_{zz}\\\\\n",
    "\\\\sigma_{xy}\\\\ \\sigma_{xz}\\\\ \\sigma_{yz}\\end{bmatrix}=') + latex(stress_print) + '\\mathrm{MPa}'))\n"
   ]
  },
  {
   "cell_type": "markdown",
   "metadata": {},
   "source": [
    "## Section II: Plane Stress\n",
    "\n",
    "**Plane stress** is a special situation where two sides of our stress cube are free of any stress.  In general we choose the $z$-axis perpendicular to the stress free faces so that $\\sigma_{zz}$, $\\sigma_{xz}$, and $\\sigma_{yz}$ equal zero.  This case occures in thin plates subjected to loads acting in the mid-plane of the plate.  The free surface of structural element (any point where loads are not applied) is also in a state of plane stress.  In this section, we use Hooke's law for the special case of plane stress.\n",
    "\n",
    "<img src=\"Stress3D.jpg\" alt=\"General Stress State\" width=\"250\" height=\"236\">  <img src=\"PlaneStress.jpg\" alt=\"Example of plane stress\" width=\"250\" height=\"236\">\n",
    "\n",
    "Stresses in terms of strains:\n",
    "$$\\begin{bmatrix} \\sigma_{xx}\\\\ \\sigma_{yy} \\\\ \\sigma_{xy}\\end{bmatrix}= \n",
    "\\begin{bmatrix} \\frac{E}{1-\\nu^2} & \\frac{\\nu E}{1-\\nu^2} & 0 \\\\\n",
    "\\frac{\\nu E}{1-\\nu^2} & \\frac{E}{1-\\nu^2} & 0 \\\\\n",
    "0 & 0 & \\frac{E}{1+\\nu} \\end{bmatrix}\n",
    "\\begin{bmatrix} \\epsilon_{xx}\\\\ \\epsilon_{yy} \\\\ \\epsilon_{xy}\\end{bmatrix} $$\n",
    "\n",
    "$$\\epsilon_{zz} = \\frac{-\\nu}{1-\\nu}\\left(\\epsilon_{xx} + \\epsilon_{yy}\\right)$$\n",
    "\n",
    "Strains in terms of stresses:\n",
    "$$\\begin{bmatrix} \\epsilon_{xx}\\\\ \\epsilon_{yy} \\\\ \\epsilon_{xy}\\end{bmatrix} = \n",
    "\\begin{bmatrix} \\frac{1}{E} & \\frac{-\\nu}{E} & 0 \\\\\n",
    "\\frac{-\\nu}{E} & \\frac{1}{E} & 0 \\\\\n",
    "0 & 0 & \\frac{1+\\nu}{E} \\end{bmatrix}\n",
    "\\begin{bmatrix} \\sigma_{xx}\\\\ \\sigma_{yy} \\\\ \\sigma_{xy}\\end{bmatrix} $$\n",
    "\n",
    "$$\\epsilon_{zz} = \\frac{-\\nu}{1-\\nu}\\left(\\epsilon_{xx} + \\epsilon_{yy}\\right)$$"
   ]
  },
  {
   "cell_type": "code",
   "execution_count": 67,
   "metadata": {
    "collapsed": false
   },
   "outputs": [
    {
     "data": {
      "text/latex": [
       "$$\\begin{bmatrix}\\varepsilon_{xx} \\\\ \\varepsilon_{yy}\\\\ \\varepsilon_{xy} \\end{bmatrix}=\\left[\\begin{matrix}266.67\\\\122.22\\\\650.0\\end{matrix}\\right]\\mu \\varepsilon$$"
      ],
      "text/plain": [
       "<IPython.core.display.Math object>"
      ]
     },
     "metadata": {},
     "output_type": "display_data"
    },
    {
     "data": {
      "text/latex": [
       "$$\\varepsilon_{zz}=-166.67\\mu \\varepsilon$$"
      ],
      "text/plain": [
       "<IPython.core.display.Math object>"
      ]
     },
     "metadata": {},
     "output_type": "display_data"
    }
   ],
   "source": [
    "#Calculate strains from stresses\n",
    "\n",
    "#Input material properties\n",
    "E = 90000 #in MPa\n",
    "nu = 0.3\n",
    "\n",
    "#Input stresses in MPa\n",
    "sigmaxx=30\n",
    "sigmayy=20\n",
    "sigmaxy=45\n",
    "\n",
    "#Calculate the strains \n",
    "#Note that the equations have been re-written in a form for matrix computation\n",
    "stress_in = np.array([[sigmaxx],[sigmayy],[sigmaxy]])\n",
    "comp_mat = np.array([[1, -nu, 0], [-nu, 1,  0], [0, 0, 1+nu]])\n",
    "strain_out = 1/E*comp_mat.dot(stress_in)*10**6\n",
    "eps_zz = -nu/(1-nu)*(strain_out[0] + strain_out[1])\n",
    "eps_zz = eps_zz[0]\n",
    "strain_out = around(strain_out, 2)\n",
    "strain_print = Matrix([[strain_out[0]], [strain_out[1]], [strain_out[2]]])\n",
    "display(Math(latex(r'\\begin{bmatrix}\\varepsilon_{xx} \\\\ \\varepsilon_{yy}\\\\ \\varepsilon_{xy} \\end{bmatrix}=') \n",
    "             + latex(strain_print) + '\\mu \\\\varepsilon'))\n",
    "display(Math(latex(r'\\varepsilon_{zz}=') \n",
    "             + latex(around(eps_zz, 2)) + '\\mu \\\\varepsilon'))"
   ]
  },
  {
   "cell_type": "code",
   "execution_count": 68,
   "metadata": {
    "collapsed": false
   },
   "outputs": [
    {
     "data": {
      "text/latex": [
       "$$\\begin{bmatrix}\\sigma_{xx} \\\\ \\sigma_{yy}\\\\ \\sigma_{xy} \\end{bmatrix}=\\left[\\begin{matrix}30.03\\\\19.99\\\\45.0\\end{matrix}\\right]\\mathrm{MPa}$$"
      ],
      "text/plain": [
       "<IPython.core.display.Math object>"
      ]
     },
     "metadata": {},
     "output_type": "display_data"
    },
    {
     "data": {
      "text/latex": [
       "$$\\varepsilon_{zz}=-166.71\\mu \\varepsilon$$"
      ],
      "text/plain": [
       "<IPython.core.display.Math object>"
      ]
     },
     "metadata": {},
     "output_type": "display_data"
    }
   ],
   "source": [
    "#Calculate stresses from strains\n",
    "\n",
    "#Input material properties\n",
    "E = 90000 #in MPa\n",
    "nu = 0.3\n",
    "\n",
    "#Input strains as microstrain\n",
    "epsxx=267\n",
    "epsyy=122\n",
    "epsxy=650\n",
    "\n",
    "#Calculate the stresses\n",
    "#Note that the equations have been re-written in a form for matrix computation\n",
    "strain_in = np.array([[epsxx],[epsyy],[epsxy]])\n",
    "strain_in = strain_in*10**-6\n",
    "stiff_mat = np.array([[1/(1-nu**2), nu/(1-nu**2), 0], [nu/(1-nu**2), 1/(1-nu**2),  0],\n",
    "                      [0, 0, 1/(1+nu)]])\n",
    "stress_out = E*stiff_mat.dot(strain_in)\n",
    "stress_out = around(stress_out, 2)\n",
    "stress_print = Matrix([[stress_out[0]], [stress_out[1]], [stress_out[2]]])\n",
    "display(Math(latex(r'\\begin{bmatrix}\\sigma_{xx} \\\\ \\sigma_{yy}\\\\ \\sigma_{xy} \\end{bmatrix}=') \n",
    "             + latex(stress_print) + '\\mathrm{MPa}'))\n",
    "\n",
    "eps_zz = -nu/(1-nu)*(epsxx + epsyy)\n",
    "display(Math(latex(r'\\varepsilon_{zz}=') \n",
    "             + latex(around(eps_zz, 2)) + '\\mu \\\\varepsilon'))"
   ]
  },
  {
   "cell_type": "markdown",
   "metadata": {},
   "source": [
    "## Section III: Plane Strain\n",
    "\n",
    "**Plane strain** is a special situation where the dimension of the structure in one direction is very large, for instance the z-axis, in comparision to the dimensions of the structure in the other two directions (x,y).  The applied forces in the x-y plane do not very in the z-drecction.  The result isthat $\\epsilon_{zz}$, $\\epsilon_{xz}$, and $\\epsilon_{yz}$ equal zero. One practical application of plane strain is the analysis of dams, tunnels, and other geotechnical projects. In this section, we use Hooke's law for the special case of plane strain.\n",
    "\n",
    "<img src=\"PlaneStress.jpg\" alt=\"Example of plane stress\" width=\"250\" height=\"236\">\n",
    "\n",
    "Stresses in terms of strains:\n",
    "$$\\begin{bmatrix} \\sigma_{xx}\\\\ \\sigma_{yy} \\\\ \\sigma_{xy}\\end{bmatrix}= \n",
    "\\frac{E}{\\left(1+\\nu\\right)\\left(1-2\\nu\\right)}\n",
    "\\begin{bmatrix} 1-\\nu & \\nu & 0 \\\\\n",
    "\\nu & 1-\\nu & 0 \\\\\n",
    "0 & 0 & 1-2\\nu \\end{bmatrix}\n",
    "\\begin{bmatrix} \\epsilon_{xx}\\\\ \\epsilon_{yy} \\\\ \\epsilon_{xy}\\end{bmatrix} $$\n",
    "\n",
    "$$\\sigma_{zz} = \\nu\\left(\\sigma_{xx} + \\sigma_{yy}\\right)$$\n",
    "\n",
    "Strains in terms of stresses:\n",
    "$$\\begin{bmatrix} \\epsilon_{xx}\\\\ \\epsilon_{yy} \\\\ \\epsilon_{xy}\\end{bmatrix} = \n",
    "\\frac{1+\\nu}{E}\n",
    "\\begin{bmatrix} 1-\\nu & -\\nu & 0 \\\\\n",
    "-\\nu & 1-\\nu & 0 \\\\\n",
    "0 & 0 & 1\\end{bmatrix}\n",
    "\\begin{bmatrix} \\sigma_{xx}\\\\ \\sigma_{yy} \\\\ \\sigma_{xy}\\end{bmatrix} $$\n",
    "\n",
    "$$\\sigma_{zz} = \\nu\\left(\\sigma_{xx} + \\sigma_{yy}\\right)$$"
   ]
  },
  {
   "cell_type": "code",
   "execution_count": 69,
   "metadata": {
    "collapsed": false
   },
   "outputs": [
    {
     "data": {
      "text/latex": [
       "$$\\begin{bmatrix}\\varepsilon_{xx} \\\\ \\varepsilon_{yy}\\\\ \\varepsilon_{xy} \\end{bmatrix}=\\left[\\begin{matrix}216.67\\\\72.22\\\\650.0\\end{matrix}\\right]\\mu \\varepsilon$$"
      ],
      "text/plain": [
       "<IPython.core.display.Math object>"
      ]
     },
     "metadata": {},
     "output_type": "display_data"
    },
    {
     "data": {
      "text/latex": [
       "$$\\sigma_{zz}=15.0\\mathrm{MPa}$$"
      ],
      "text/plain": [
       "<IPython.core.display.Math object>"
      ]
     },
     "metadata": {},
     "output_type": "display_data"
    }
   ],
   "source": [
    "#Calculate strains from stresses\n",
    "\n",
    "#Input material properties\n",
    "E = 90000 #in MPa\n",
    "nu = 0.3\n",
    "\n",
    "#Input stresses in MPa\n",
    "sigmaxx=30\n",
    "sigmayy=20\n",
    "sigmaxy=45\n",
    "\n",
    "#Calculate the strains \n",
    "#Note that the equations have been re-written in a form for matrix computation\n",
    "stress_in = np.array([[sigmaxx],[sigmayy],[sigmaxy]])\n",
    "comp_mat = np.array([[1-nu, -nu, 0], [-nu, 1-nu,  0], [0, 0, 1]])\n",
    "strain_out = (1+nu)/E*comp_mat.dot(stress_in)*10**6\n",
    "strain_out = around(strain_out, 2)\n",
    "strain_print = Matrix([[strain_out[0]], [strain_out[1]], [strain_out[2]]])\n",
    "display(Math(latex(r'\\begin{bmatrix}\\varepsilon_{xx} \\\\ \\varepsilon_{yy}\\\\ \\varepsilon_{xy} \\end{bmatrix}=') \n",
    "             + latex(strain_print) + '\\mu \\\\varepsilon'))\n",
    "\n",
    "eps_zz = nu*(sigmaxx + sigmayy)\n",
    "display(Math(latex(r'\\sigma_{zz}=') \n",
    "             + latex(around(eps_zz, 2)) + '\\mathrm{MPa}'))"
   ]
  },
  {
   "cell_type": "code",
   "execution_count": 70,
   "metadata": {
    "collapsed": false
   },
   "outputs": [
    {
     "data": {
      "text/latex": [
       "$$\\begin{bmatrix}\\sigma_{xx} \\\\ \\sigma_{yy}\\\\ \\sigma_{xy} \\end{bmatrix}=\\left[\\begin{matrix}30.03\\\\19.99\\\\45.0\\end{matrix}\\right]\\mathrm{MPa}$$"
      ],
      "text/plain": [
       "<IPython.core.display.Math object>"
      ]
     },
     "metadata": {},
     "output_type": "display_data"
    },
    {
     "data": {
      "text/latex": [
       "$$\\sigma_{zz}=15.0\\mathrm{MPa}$$"
      ],
      "text/plain": [
       "<IPython.core.display.Math object>"
      ]
     },
     "metadata": {},
     "output_type": "display_data"
    }
   ],
   "source": [
    "#Calculate stresses from strains\n",
    "\n",
    "#Input material properties\n",
    "E = 90000 #in MPa\n",
    "nu = 0.3\n",
    "\n",
    "#Input strains as microstrain\n",
    "epsxx=217\n",
    "epsyy=72\n",
    "epsxy=650\n",
    "\n",
    "#Calculate the stresses\n",
    "#Note that the equations have been re-written in a form for matrix computation\n",
    "strain_in = np.array([[epsxx],[epsyy],[epsxy]])\n",
    "strain_in = strain_in*10**-6\n",
    "stiff_mat = np.array([[1-nu, nu, 0], [nu, 1-nu,  0],\n",
    "                      [0, 0, 1-2*nu]])\n",
    "stress_out = E/(1+nu)/(1-2*nu)*stiff_mat.dot(strain_in)\n",
    "sigma_zz = nu*(stress_out[0] + strain_out[1])\n",
    "stress_out = around(stress_out, 2)\n",
    "stress_print = Matrix([[stress_out[0]], [stress_out[1]], [stress_out[2]]])\n",
    "display(Math(latex(r'\\begin{bmatrix}\\sigma_{xx} \\\\ \\sigma_{yy}\\\\ \\sigma_{xy} \\end{bmatrix}=') \n",
    "             + latex(stress_print) + '\\mathrm{MPa}'))\n",
    "display(Math(latex(r'\\sigma_{zz}=') \n",
    "             + latex(around(eps_zz, 2)) + '\\mathrm{MPa}'))"
   ]
  },
  {
   "cell_type": "code",
   "execution_count": null,
   "metadata": {
    "collapsed": true
   },
   "outputs": [],
   "source": []
  }
 ],
 "metadata": {
  "anaconda-cloud": {},
  "kernelspec": {
   "display_name": "Python [Root]",
   "language": "python",
   "name": "Python [Root]"
  },
  "language_info": {
   "codemirror_mode": {
    "name": "ipython",
    "version": 3
   },
   "file_extension": ".py",
   "mimetype": "text/x-python",
   "name": "python",
   "nbconvert_exporter": "python",
   "pygments_lexer": "ipython3",
   "version": "3.5.2"
  }
 },
 "nbformat": 4,
 "nbformat_minor": 0
}
