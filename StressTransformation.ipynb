{
 "cells": [
  {
   "cell_type": "markdown",
   "metadata": {},
   "source": [
    "## FEEG1002 - Statics 2\n",
    "\n",
    "## Stress and Strain Transformations\n",
    "\n",
    "### Dr. Davis  - fmd1f14@soton.ac.uk\n",
    "\n",
    "In this notebook, we're going to use Python/NumPy/Matplotlib to examine plane stress and plane strain transformations.  The notebook is split into two sections. The first section directly computes the rotated stress matrix for any angle, $\\theta$, while the second section performs the same calculation for a strain matrix.  There are two other related notbooks that you should  visit related to stress and strain transformations <a href= 'MohrsCircle.ipynb'> Mohr's Circle </a> and <a href ='StrainGauge.ipynb'> Strain Gauges </a>. The Mohr's circle notebook will calculate the principals stresses (or strains) and plot Mohr's circle.  The Strain Gauge notebook uses the strain transformation equations from this notebook to perform strain gauge calculations.\n"
   ]
  },
  {
   "cell_type": "code",
   "execution_count": 1,
   "metadata": {
    "collapsed": false
   },
   "outputs": [
    {
     "name": "stdout",
     "output_type": "stream",
     "text": [
      "Populating the interactive namespace from numpy and matplotlib\n"
     ]
    }
   ],
   "source": [
    "# Load necessary functions\n",
    "%pylab inline"
   ]
  },
  {
   "cell_type": "markdown",
   "metadata": {},
   "source": [
    "### Section I: Stress transformations\n",
    "\n",
    "Let us assume that a state of plane stress exists at point (left), and that it is defined by the stress components $\\sigma_{xx}$, $\\sigma_{yy}$, and $\\sigma_{xy}$.  Using stress transformations we can determine the stress components $\\sigma'_{xx}$, $\\sigma'_{yy}$, and $\\sigma'_{xy}$ after it has been rotated through an angle $\\theta$ about the $z$-axis (right). \n",
    "\n",
    "<table>\n",
    "<tr>\n",
    "<td> <img src=\"GenStressState.jpg\" alt=\"General Stress State\" width=\"250\" height=\"236\"></td>\n",
    "<td> <img src=\"RotStressState.jpg\" alt=\"Rotated Stress State\" width=\"227\" height=\"250\"></td>\n",
    "</tr>\n",
    "</table>\n",
    "\n",
    "The equations for the rotated stress components $\\sigma'_{xx}$, $\\sigma'_{yy}$, and $\\sigma'_{xy}$ were derived in **Lecture 7 ** and a step-by-step derivation can be found <a href = 'StressTransformationNotes.pdf'>here</a>.  The resulting equations are shown below:\n",
    "\n",
    "$$\n",
    "\\begin{bmatrix} \\sigma'_{xx} \\\\ \\sigma'_{yy} \\\\ \\sigma'_{xy} \\end{bmatrix} \n",
    "= \n",
    "\\begin{bmatrix} \\cos^2\\theta & \\sin^2\\theta & 2\\cos\\theta \\sin\\theta \\\\\n",
    "\\sin^2\\theta & \\cos^2\\theta & -2\\cos\\theta \\sin\\theta \\\\\n",
    "-\\cos\\theta \\sin\\theta & \\cos\\theta \\sin\\theta & \\cos^2\\theta - \\sin^2\\theta\n",
    "\\end{bmatrix} \\, \\begin{bmatrix} \\sigma_{xx} \\\\ \\sigma_{yy} \\\\ \\sigma_{xy} \\end{bmatrix}\n",
    "$$\n",
    "\n",
    "Consider using the cells below to check your answers when working practice problems. In the first cell, you can change the stress matix and the rotation angle.  Re-execute the first and second cell to calculate the stresses in the rotated system to two decimal places."
   ]
  },
  {
   "cell_type": "code",
   "execution_count": 2,
   "metadata": {
    "collapsed": true
   },
   "outputs": [],
   "source": [
    "# Input the stress matrix and rotation angle\n",
    "\n",
    "#The stress array is [sigma_xx, sigma_yy, sigma_xy]\n",
    "Stress = np.array([[50], [-10], [40]])\n",
    "\n",
    "#Input the rotation angle and change it to radians\n",
    "rotAngle = math.radians(65)"
   ]
  },
  {
   "cell_type": "code",
   "execution_count": 3,
   "metadata": {
    "collapsed": false
   },
   "outputs": [
    {
     "name": "stdout",
     "output_type": "stream",
     "text": [
      "31.36\n",
      "8.64\n",
      "-48.69\n"
     ]
    }
   ],
   "source": [
    "# Perform the rotation \n",
    "\n",
    "#Create the rotation matrix\n",
    "rotMat = np.array([[cos(rotAngle)**2, sin(rotAngle)**2, 2*cos(rotAngle)*sin(rotAngle)],\n",
    "                  [sin(rotAngle)**2, cos(rotAngle)**2, -2*cos(rotAngle)*sin(rotAngle)],\n",
    "                  [-cos(rotAngle)*sin(rotAngle), cos(rotAngle)*sin(rotAngle), cos(rotAngle)**2 - sin(rotAngle)**2]\n",
    "                  ])\n",
    "\n",
    "#Calculate and display the rotated stresses\n",
    "rotStresses = rotMat.dot(Stress)\n",
    "\n",
    "#Round the stresses to two decimal places\n",
    "for i in range(3):\n",
    "    print('%.2f' % rotStresses[i])\n",
    "    \n",
    "#Results are printed the order sigma'_xx, sigma'_yy, simga'_xy"
   ]
  },
  {
   "cell_type": "markdown",
   "metadata": {},
   "source": [
    "### Section II: Strain transformations\n",
    "\n",
    "Similar to stress, the strain can also be transformed by a rotation about the $z$-axis. The resulting equations are shown below:\n",
    "\n",
    "$$\n",
    "\\begin{bmatrix} \\epsilon'_{xx} \\\\ \\epsilon'_{yy} \\\\ \\epsilon'_{xy} \\end{bmatrix} \n",
    "= \n",
    "\\begin{bmatrix} \\cos^2\\theta & \\sin^2\\theta & 2\\cos\\theta \\sin\\theta \\\\\n",
    "\\sin^2\\theta & \\cos^2\\theta & -2\\cos\\theta \\sin\\theta \\\\\n",
    "-\\cos\\theta \\sin\\theta & \\cos\\theta \\sin\\theta & \\cos^2\\theta - \\sin^2\\theta\n",
    "\\end{bmatrix} \\, \\begin{bmatrix} \\epsilon_{xx} \\\\ \\epsilon_{yy} \\\\ \\epsilon_{xy} \\end{bmatrix}\n",
    "$$\n",
    "\n",
    "The equations were orginally presented in **Lecture 9**. Note that the equations for strain transformations are the same as for stress transformations.  **On the exam, you will only be given one set of transformation equations and be expected to understand that the equations for stress and strain transformations are the same.**\n",
    "\n",
    "Consider using this section to check your answers when working practice problems. In the first cell, you can change the strain matix and the rotation angle.  Re-execute both cells to calculate the strains in the rotated system to two decimal places."
   ]
  },
  {
   "cell_type": "code",
   "execution_count": 4,
   "metadata": {
    "collapsed": true
   },
   "outputs": [],
   "source": [
    "# Input the strain matix and rotation angle\n",
    "\n",
    "#The strain array is [eps_xx, eps_yy, eps_xy]\n",
    "Strain = np.array([[400], [0], [400]])\n",
    "\n",
    "#Input the rotation angle and change it to radians\n",
    "rotAngle = math.radians(15)"
   ]
  },
  {
   "cell_type": "code",
   "execution_count": 5,
   "metadata": {
    "collapsed": false
   },
   "outputs": [
    {
     "name": "stdout",
     "output_type": "stream",
     "text": [
      "573.21\n",
      "-173.21\n",
      "246.41\n"
     ]
    }
   ],
   "source": [
    "# Perform the rotation \n",
    "\n",
    "#Create the rotation matrix\n",
    "rotMat = np.array([[cos(rotAngle)**2, sin(rotAngle)**2, 2*cos(rotAngle)*sin(rotAngle)],\n",
    "                  [sin(rotAngle)**2, cos(rotAngle)**2, -2*cos(rotAngle)*sin(rotAngle)],\n",
    "                  [-cos(rotAngle)*sin(rotAngle), cos(rotAngle)*sin(rotAngle), cos(rotAngle)**2 - sin(rotAngle)**2]\n",
    "                  ])\n",
    "\n",
    "#Calculate and display the rotated stresses\n",
    "rotStrain = rotMat.dot(Strain)\n",
    "\n",
    "#Automatically round to two decimal places\n",
    "for i in range(3):\n",
    "    print('%.2f' % rotStrain[i])\n",
    "    \n",
    "#Results are printed in the order eps'_xx, eps'_yy, eps'_xy"
   ]
  },
  {
   "cell_type": "code",
   "execution_count": null,
   "metadata": {
    "collapsed": true
   },
   "outputs": [],
   "source": []
  }
 ],
 "metadata": {
  "anaconda-cloud": {},
  "celltoolbar": "Raw Cell Format",
  "kernelspec": {
   "display_name": "Python [Root]",
   "language": "python",
   "name": "Python [Root]"
  },
  "language_info": {
   "codemirror_mode": {
    "name": "ipython",
    "version": 3
   },
   "file_extension": ".py",
   "mimetype": "text/x-python",
   "name": "python",
   "nbconvert_exporter": "python",
   "pygments_lexer": "ipython3",
   "version": "3.5.2"
  }
 },
 "nbformat": 4,
 "nbformat_minor": 0
}
