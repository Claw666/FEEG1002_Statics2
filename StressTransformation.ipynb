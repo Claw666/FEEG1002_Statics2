{
 "cells": [
  {
   "cell_type": "markdown",
   "metadata": {},
   "source": [
    "## FEEG1002 - Statics 2\n",
    "\n",
    "## Stress and Strain Transformations\n",
    "\n",
    "### Dr. Davis  - fmd1f14@soton.ac.uk\n",
    "\n",
    "In this notebook, we're going to use Python/NumPy/Matplotlib to examine plane stress and plane strain transformations.  The notebook is split into two sections. The first section directly computes the rotated stress matrix for any angle, $\\theta$, while the second section performs the same calculation for a strain matrix.  There are two other related notebooks that you should  visit related to stress and strain transformations **Mohr's Circle** and **Strain Gauges**. The Mohr's circle notebook will calculate the principal stresses (or strains) and plot Mohr's circle.  The Strain Gauge notebook uses the strain transformation equations from this notebook to perform strain gauge calculations.\n"
   ]
  },
  {
   "cell_type": "code",
   "execution_count": 5,
   "metadata": {
    "collapsed": false
   },
   "outputs": [
    {
     "name": "stdout",
     "output_type": "stream",
     "text": [
      "Populating the interactive namespace from numpy and matplotlib\n"
     ]
    }
   ],
   "source": [
    "# Load necessary functions\n",
    "%pylab inline\n",
    "from IPython.display import display, Math\n",
    "from sympy import latex\n",
    "from sympy.interactive import printing\n",
    "printing.init_printing()"
   ]
  },
  {
   "cell_type": "markdown",
   "metadata": {},
   "source": [
    "### Section I: Stress transformations\n",
    "\n",
    "Let us assume that a state of plane stress exists at point (left), and that it is defined by the stress components $\\sigma_{xx}$, $\\sigma_{yy}$, and $\\sigma_{xy}$.  Using stress transformations, we can determine the stress components $\\sigma'_{xx}$, $\\sigma'_{yy}$, and $\\sigma'_{xy}$ after it has been rotated through an angle $\\theta$ about the $z$-axis (right). \n",
    "\n",
    "<table>\n",
    "<tr>\n",
    "<td> <img src=\"GenStressState.jpg\" alt=\"General Stress State\" width=\"250\" height=\"236\"></td>\n",
    "<td> <img src=\"RotStressState.jpg\" alt=\"Rotated Stress State\" width=\"227\" height=\"250\"></td>\n",
    "</tr>\n",
    "</table>\n",
    "\n",
    "The equations for the rotated stress components $\\sigma'_{xx}$, $\\sigma'_{yy}$, and $\\sigma'_{xy}$ were derived in **Lecture 5 ** and a step-by-step derivation can be found <a href = 'StressTransformationNotes.pdf'>here</a> and on Blackboard in the Derivations folder.  The resulting equations are shown below:\n",
    "\n",
    "$$\n",
    "\\begin{bmatrix} \\sigma'_{xx} \\\\ \\sigma'_{yy} \\\\ \\sigma'_{xy} \\end{bmatrix} \n",
    "= \n",
    "\\begin{bmatrix} \\cos^2\\theta & \\sin^2\\theta & 2\\cos\\theta \\sin\\theta \\\\\n",
    "\\sin^2\\theta & \\cos^2\\theta & -2\\cos\\theta \\sin\\theta \\\\\n",
    "-\\cos\\theta \\sin\\theta & \\cos\\theta \\sin\\theta & \\cos^2\\theta - \\sin^2\\theta\n",
    "\\end{bmatrix} \\, \\begin{bmatrix} \\sigma_{xx} \\\\ \\sigma_{yy} \\\\ \\sigma_{xy} \\end{bmatrix}\n",
    "$$\n",
    "\n",
    "Consider using the cells below to check your answers when working practice problems. In the first cell, you can change the stress matrix and the rotation angle.  Re-execute the first and second cell to calculate the stresses in the rotated system to two decimal places.\n"
   ]
  },
  {
   "cell_type": "code",
   "execution_count": 2,
   "metadata": {
    "collapsed": true
   },
   "outputs": [],
   "source": [
    "# Input the stress matrix and rotation angle\n",
    "\n",
    "#The stress array is [sigma_xx, sigma_yy, sigma_xy] in MPa\n",
    "Stress = np.array([[50], [-10], [40]])\n",
    "\n",
    "#Input the rotation angle and change it to radians\n",
    "rotAngle = math.radians(65)"
   ]
  },
  {
   "cell_type": "code",
   "execution_count": 28,
   "metadata": {
    "collapsed": false
   },
   "outputs": [
    {
     "data": {
      "text/latex": [
       "$$\\sigma^\\prime_{xx}=[ 31.36]\\, \\mathrm{MPa}$$"
      ],
      "text/plain": [
       "<IPython.core.display.Math object>"
      ]
     },
     "metadata": {},
     "output_type": "display_data"
    },
    {
     "data": {
      "text/latex": [
       "$$\\sigma^\\prime_{yy}=[ 8.64]\\, \\mathrm{MPa}$$"
      ],
      "text/plain": [
       "<IPython.core.display.Math object>"
      ]
     },
     "metadata": {},
     "output_type": "display_data"
    },
    {
     "data": {
      "text/latex": [
       "$$\\sigma^\\prime_{xy}=[-48.69]\\, \\mathrm{MPa}$$"
      ],
      "text/plain": [
       "<IPython.core.display.Math object>"
      ]
     },
     "metadata": {},
     "output_type": "display_data"
    }
   ],
   "source": [
    "# Perform the rotation \n",
    "\n",
    "#Create the rotation matrix\n",
    "rotMat = np.array([[cos(rotAngle)**2, sin(rotAngle)**2, 2*cos(rotAngle)*sin(rotAngle)],\n",
    "                  [sin(rotAngle)**2, cos(rotAngle)**2, -2*cos(rotAngle)*sin(rotAngle)],\n",
    "                  [-cos(rotAngle)*sin(rotAngle), cos(rotAngle)*sin(rotAngle), cos(rotAngle)**2 - sin(rotAngle)**2]\n",
    "                  ])\n",
    "\n",
    "#Calculate and display the rotated stresses\n",
    "rotStresses = around(rotMat.dot(Stress),2)\n",
    "    \n",
    "display(Math(latex(r'\\sigma^\\prime_{xx}=') + latex(rotStresses[0])+ '\\, \\mathrm{MPa}'))\n",
    "display(Math(latex(r'\\sigma^\\prime_{yy}=') + latex(rotStresses[1])+ '\\, \\mathrm{MPa}'))\n",
    "display(Math(latex(r'\\sigma^\\prime_{xy}=') + latex(rotStresses[2])+ '\\, \\mathrm{MPa}'))\n",
    "    \n",
    "#Results to two decimal places"
   ]
  },
  {
   "cell_type": "markdown",
   "metadata": {},
   "source": [
    "### Section II: Strain transformations\n",
    "\n",
    "Similar to stress, the strain can also be transformed by a rotation about the $z$-axis. The resulting equations are shown below:\n",
    "\n",
    "$$\n",
    "\\begin{bmatrix} \\epsilon'_{xx} \\\\ \\epsilon'_{yy} \\\\ \\epsilon'_{xy} \\end{bmatrix} \n",
    "= \n",
    "\\begin{bmatrix} \\cos^2\\theta & \\sin^2\\theta & 2\\cos\\theta \\sin\\theta \\\\\n",
    "\\sin^2\\theta & \\cos^2\\theta & -2\\cos\\theta \\sin\\theta \\\\\n",
    "-\\cos\\theta \\sin\\theta & \\cos\\theta \\sin\\theta & \\cos^2\\theta - \\sin^2\\theta\n",
    "\\end{bmatrix} \\, \\begin{bmatrix} \\epsilon_{xx} \\\\ \\epsilon_{yy} \\\\ \\epsilon_{xy} \\end{bmatrix}\n",
    "$$\n",
    "\n",
    "The equations were originally presented in **Lecture 5**. Note that the equations for strain transformations are the same as for stress transformations.  **You are expected to remember that the equations for stress and strain transformations are the same.**\n",
    "\n",
    "Consider using this section to check your answers when working practice problems. In the first cell, you can change the strain matrix and the rotation angle.  Re-execute both cells to calculate the strains in the rotated system to two decimal places.\n"
   ]
  },
  {
   "cell_type": "code",
   "execution_count": 29,
   "metadata": {
    "collapsed": true
   },
   "outputs": [],
   "source": [
    "# Input the strain matix and rotation angle\n",
    "\n",
    "#The strain array is [eps_xx, eps_yy, eps_xy] in microstrain\n",
    "Strain = np.array([[400], [0], [400]])\n",
    "\n",
    "#Input the rotation angle and change it to radians\n",
    "rotAngle = math.radians(15)"
   ]
  },
  {
   "cell_type": "code",
   "execution_count": 31,
   "metadata": {
    "collapsed": false
   },
   "outputs": [
    {
     "data": {
      "text/latex": [
       "$$\\epsilon^\\prime_{xx}=[ 573.21]\\, \\mu\\epsilon$$"
      ],
      "text/plain": [
       "<IPython.core.display.Math object>"
      ]
     },
     "metadata": {},
     "output_type": "display_data"
    },
    {
     "data": {
      "text/latex": [
       "$$\\epsilon^\\prime_{yy}=[-173.21]\\, \\mu\\epsilon$$"
      ],
      "text/plain": [
       "<IPython.core.display.Math object>"
      ]
     },
     "metadata": {},
     "output_type": "display_data"
    },
    {
     "data": {
      "text/latex": [
       "$$\\epsilon^\\prime_{xy}=[ 246.41]\\, \\mu\\epsilon$$"
      ],
      "text/plain": [
       "<IPython.core.display.Math object>"
      ]
     },
     "metadata": {},
     "output_type": "display_data"
    }
   ],
   "source": [
    "# Perform the rotation \n",
    "\n",
    "#Create the rotation matrix\n",
    "rotMat = np.array([[cos(rotAngle)**2, sin(rotAngle)**2, 2*cos(rotAngle)*sin(rotAngle)],\n",
    "                  [sin(rotAngle)**2, cos(rotAngle)**2, -2*cos(rotAngle)*sin(rotAngle)],\n",
    "                  [-cos(rotAngle)*sin(rotAngle), cos(rotAngle)*sin(rotAngle), cos(rotAngle)**2 - sin(rotAngle)**2]\n",
    "                  ])\n",
    "\n",
    "#Calculate and display the rotated strains and automatically round to two decimal places\n",
    "rotStrain = around(rotMat.dot(Strain),2)\n",
    "\n",
    "#Display the results in a nice format\n",
    "display(Math(latex(r'\\epsilon^\\prime_{xx}=') + latex(rotStrain[0])+ '\\, \\mu\\epsilon'))\n",
    "display(Math(latex(r'\\epsilon^\\prime_{yy}=') + latex(rotStrain[1])+ '\\, \\mu\\epsilon'))\n",
    "display(Math(latex(r'\\epsilon^\\prime_{xy}=') + latex(rotStrain[2])+ '\\, \\mu\\epsilon'))\n",
    "    \n",
    "#Results are printed to two decimal places"
   ]
  },
  {
   "cell_type": "code",
   "execution_count": null,
   "metadata": {
    "collapsed": true
   },
   "outputs": [],
   "source": []
  }
 ],
 "metadata": {
  "anaconda-cloud": {},
  "celltoolbar": "Raw Cell Format",
  "kernelspec": {
   "display_name": "Python [Root]",
   "language": "python",
   "name": "Python [Root]"
  },
  "language_info": {
   "codemirror_mode": {
    "name": "ipython",
    "version": 3
   },
   "file_extension": ".py",
   "mimetype": "text/x-python",
   "name": "python",
   "nbconvert_exporter": "python",
   "pygments_lexer": "ipython3",
   "version": "3.5.2"
  }
 },
 "nbformat": 4,
 "nbformat_minor": 0
}
