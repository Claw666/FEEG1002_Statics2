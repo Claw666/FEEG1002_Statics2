{
 "cells": [
  {
   "cell_type": "markdown",
   "metadata": {},
   "source": [
    "## FEEG1002 - Statics 2\n",
    "## Strain calculation and interpetation\n",
    "### Dr. Davis - fmd1f14@soton.ac.uk\n",
    "\n",
    "In this notebook, we're going to use Python/NumPy/Matplotlib to calculate the strain and rotation matrices from a displacement vector. The notebook is split into two sections. The first section directly computes the strain and rotation while the second section uses the calculated strain and displacement to plot the shape a square box would take after the deformation was applied. "
   ]
  },
  {
   "cell_type": "code",
   "execution_count": 1,
   "metadata": {
    "collapsed": false
   },
   "outputs": [
    {
     "name": "stdout",
     "output_type": "stream",
     "text": [
      "Populating the interactive namespace from numpy and matplotlib\n"
     ]
    }
   ],
   "source": [
    "# Load necessary functions\n",
    "%pylab inline"
   ]
  },
  {
   "cell_type": "markdown",
   "metadata": {},
   "source": [
    "### Section I: Strain calculation\n",
    "\n",
    "In <a href = 'https://blackboard.soton.ac.uk/bbcswebdav/courses/FEEG1002-29851-16-17/FEEG1002-S2-2016_Lecture3.pdf'>Lecture 3</a>, the definiations for displacement and strain were introduced.  The displacement is a vector which describes the motion of a each point in the body from the undeformed configuration to the deformed configuration.\n",
    "\n",
    "$${\\bf u} = \\begin{bmatrix}u_x\\left(x, y, z\\right)\\\\ u_y\\left(x, y, z\\right) \\\\ u_z\\left(x, y, z\\right) \\end{bmatrix}$$\n",
    "\n",
    "The displacement vector is composed of three functions ($u_x$, $u_y$, $u_z$) which can depend on $x$, $y$, and $z$.  As discussed in class, the displacement contains, rigid body translation, rigid body rotation, and deformation.  We use strain as convenient method to isolate the deformation.\n",
    "\n",
    "The strain matrix was defined as $\\epsilon = \\frac{1}{2}\\left(\\overline{\\overline{grad}}\\,{\\bf u} + \\overline{\\overline{grad}}\\,{\\bf u}^{\\mathrm{T}} \\right) $ where\n",
    "\n",
    "$${\\bf \\epsilon} = \\begin{bmatrix}\\epsilon_{xx} & \\epsilon_{xy} & \\epsilon_{xz}\\\\\n",
    "\\epsilon_{xy}& \\epsilon_{yy} & \\epsilon_{yz}\\\\\n",
    "\\epsilon_{xz} & \\epsilon_{yz} & \\epsilon_{zz}\\end{bmatrix}\n",
    "= \\begin{bmatrix}\\frac{\\partial u_x}{\\partial x} & \\frac{1}{2}\\left(\\frac{\\partial u_x}{\\partial y} + \\frac{\\partial u_y}{\\partial x} \\right) & \\frac{1}{2}\\left(\\frac{\\partial u_x}{\\partial z} + \\frac{\\partial u_z}{\\partial x} \\right)\\\\\n",
    "\\frac{1}{2}\\left(\\frac{\\partial u_x}{\\partial y} + \\frac{\\partial u_y}{\\partial x} \\right)& \\frac{\\partial u_y}{\\partial y} & \\frac{1}{2}\\left(\\frac{\\partial u_y}{\\partial z} + \\frac{\\partial u_z}{\\partial y} \\right)\\\\\n",
    "\\frac{1}{2}\\left(\\frac{\\partial u_x}{\\partial z} + \\frac{\\partial u_z}{\\partial x} \\right) & \\frac{1}{2}\\left(\\frac{\\partial u_y}{\\partial z} + \\frac{\\partial u_z}{\\partial y} \\right) & \\frac{\\partial u_z}{\\partial z}\\end{bmatrix} \\,.$$ \n",
    "\n",
    "The rotation matrix was defined as $\\omega = \\frac{1}{2}\\left(\\overline{\\overline{grad}}\\,{\\bf u} - \\overline{\\overline{grad}}\\,{\\bf u}^{\\mathrm{T}} \\right) $ where\n",
    "\n",
    "$${\\bf \\omega} = \\begin{bmatrix}\\omega_{xx} & \\omega_{xy} & \\omega_{xz}\\\\\n",
    "\\omega_{xy}& \\omega_{yy} & \\omega_{yz}\\\\\n",
    "\\omega_{xz} & \\omega_{yz} & \\omega_{zz}\\end{bmatrix}\n",
    "= \\begin{bmatrix}0 & \\frac{1}{2}\\left(\\frac{\\partial u_x}{\\partial y} - \\frac{\\partial u_y}{\\partial x} \\right) & \\frac{1}{2}\\left(\\frac{\\partial u_x}{\\partial z} - \\frac{\\partial u_z}{\\partial x} \\right)\\\\\n",
    "-\\frac{1}{2}\\left(\\frac{\\partial u_x}{\\partial y} - \\frac{\\partial u_y}{\\partial x} \\right)& 0& \\frac{1}{2}\\left(\\frac{\\partial u_y}{\\partial z} - \\frac{\\partial u_z}{\\partial y} \\right)\\\\\n",
    "-\\frac{1}{2}\\left(\\frac{\\partial u_x}{\\partial z} - \\frac{\\partial u_z}{\\partial x} \\right) & -\\frac{1}{2}\\left(\\frac{\\partial u_y}{\\partial z} - \\frac{\\partial u_z}{\\partial y} \\right) & 0\\end{bmatrix} \\,.$$ \n",
    "\n",
    "Recall that the strain matrix describes the deformation while the rotation matrix describes the rigid body rotation."
   ]
  },
  {
   "cell_type": "code",
   "execution_count": 44,
   "metadata": {
    "collapsed": true
   },
   "outputs": [],
   "source": [
    "# Allow the notebook to make symbolic calculations\n",
    "from IPython.display import display, Math\n",
    "from sympy import symbols, diff, Matrix, simplify, latex, cos, sin, exp, lambdify\n",
    "from sympy.interactive import printing\n",
    "printing.init_printing()\n",
    "\n",
    "# Make the x, y, and z symbolic\n",
    "x, y, z = symbols('x y z')"
   ]
  },
  {
   "cell_type": "code",
   "execution_count": 20,
   "metadata": {
    "collapsed": false
   },
   "outputs": [],
   "source": [
    "# Write the displacement vector\n",
    "ux = x*cos(z) + x**2*y**3\n",
    "uy = x*y**3 + x**2*y**4\n",
    "uz = 2*x**2*y*sin(3*z**2)"
   ]
  },
  {
   "cell_type": "code",
   "execution_count": 21,
   "metadata": {
    "collapsed": false
   },
   "outputs": [
    {
     "data": {
      "text/latex": [
       "$$\\varepsilon=\\left[\\begin{matrix}2 x y^{3} + \\cos{\\left (z \\right )} & y^{2} \\left(1.5 x^{2} + 1.0 x y^{2} + 0.5 y\\right) & x \\left(2.0 y \\sin{\\left (3 z^{2} \\right )} - 0.5 \\sin{\\left (z \\right )}\\right)\\\\y^{2} \\left(1.5 x^{2} + 1.0 x y^{2} + 0.5 y\\right) & x y^{2} \\left(4 x y + 3\\right) & 1.0 x^{2} \\sin{\\left (3 z^{2} \\right )}\\\\x \\left(2.0 y \\sin{\\left (3 z^{2} \\right )} - 0.5 \\sin{\\left (z \\right )}\\right) & 1.0 x^{2} \\sin{\\left (3 z^{2} \\right )} & 12 x^{2} y z \\cos{\\left (3 z^{2} \\right )}\\end{matrix}\\right]$$"
      ],
      "text/plain": [
       "<IPython.core.display.Math object>"
      ]
     },
     "metadata": {},
     "output_type": "display_data"
    }
   ],
   "source": [
    "#Calculate the strain\n",
    "exx = diff(ux, x)\n",
    "eyy = diff(uy, y)\n",
    "ezz = diff(uz, z)\n",
    "exy = 0.5*diff(ux,y) + 0.5*diff(uy,x)\n",
    "exz = 0.5*diff(ux,z) + 0.5*diff(uz,x)\n",
    "eyz = 0.5*diff(uy,z) + 0.5*diff(uz,y)\n",
    "Strain = Matrix([[exx, exy, exz], [exy, eyy, eyz], [exz, eyz, ezz]])\n",
    "display(Math(latex(r'\\varepsilon=') + latex(simplify(Strain))))"
   ]
  },
  {
   "cell_type": "code",
   "execution_count": 22,
   "metadata": {
    "collapsed": false
   },
   "outputs": [
    {
     "data": {
      "text/latex": [
       "$$\\omega=\\left[\\begin{matrix}0 & y^{2} \\left(1.5 x^{2} - 1.0 x y^{2} - 0.5 y\\right) & - x \\left(2.0 y \\sin{\\left (3 z^{2} \\right )} + 0.5 \\sin{\\left (z \\right )}\\right)\\\\y^{2} \\left(- 1.5 x^{2} + 1.0 x y^{2} + 0.5 y\\right) & 0 & - 1.0 x^{2} \\sin{\\left (3 z^{2} \\right )}\\\\x \\left(2.0 y \\sin{\\left (3 z^{2} \\right )} + 0.5 \\sin{\\left (z \\right )}\\right) & 1.0 x^{2} \\sin{\\left (3 z^{2} \\right )} & 0\\end{matrix}\\right]$$"
      ],
      "text/plain": [
       "<IPython.core.display.Math object>"
      ]
     },
     "metadata": {},
     "output_type": "display_data"
    }
   ],
   "source": [
    "#Calculate the rotation\n",
    "wxy = 0.5*diff(ux,y) - 0.5*diff(uy,x)\n",
    "wxz = 0.5*diff(ux,z) - 0.5*diff(uz,x)\n",
    "wyz = 0.5*diff(uy,z) - 0.5*diff(uz,y)\n",
    "Rot = Matrix([[0, wxy, wxz], [-wxy, 0, wyz], [-wxz, -wyz, 0]])\n",
    "display(Math(latex(r'\\omega=') + latex(simplify(Rot))))"
   ]
  },
  {
   "cell_type": "markdown",
   "metadata": {},
   "source": [
    "### Section II: Strain visualization\n",
    "\n",
    "In this section, we will look at a graphical interpertation of strain.  The setup will mirror the problems from the <a href='https://blackboard.soton.ac.uk/bbcswebdav/courses/FEEG1002-29851-16-17/FEEG1002-S2-2016/S2_Tutorial1.pdf'>first tutorial sheet</a> and the slides from <a href='https://blackboard.soton.ac.uk/bbcswebdav/courses/FEEG1002-29851-16-17/FEEG1002-S2-2016_Lecture4_v1.pdf'>Lecture 4</a>.  The main ideas to keep in mind are that:\n",
    "* **Normal strains** change distances while keeping angles the same.  $\\epsilon_{xx}$, $\\epsilon_{yy}$, and $\\epsilon_{zz}$ are normal strains.\n",
    "* **Shear strains** change the angles between two lines while keeping the length of the lines the same.  $\\epsilon_{xy}$, $\\epsilon_{yz}$, and $\\epsilon_{xz}$ are shear strains.\n",
    "\n",
    "The symbolic variables were actived in the previous section, if you did not run those cells please do so before running the cells below."
   ]
  },
  {
   "cell_type": "code",
   "execution_count": 25,
   "metadata": {
    "collapsed": true
   },
   "outputs": [],
   "source": [
    "ux_plot = 0.1*x + 0.2*y\n",
    "uy_plot = -0.05*y"
   ]
  },
  {
   "cell_type": "code",
   "execution_count": 26,
   "metadata": {
    "collapsed": false
   },
   "outputs": [
    {
     "data": {
      "text/latex": [
       "$$\\varepsilon=\\left[\\begin{matrix}0.1 & 0.1\\\\0.1 & -0.05\\end{matrix}\\right]$$"
      ],
      "text/plain": [
       "<IPython.core.display.Math object>"
      ]
     },
     "metadata": {},
     "output_type": "display_data"
    }
   ],
   "source": [
    "#Calculate the strain\n",
    "exx_plot = diff(ux_plot, x)\n",
    "eyy_plot = diff(uy_plot, y)\n",
    "exy_plot = 0.5*diff(ux_plot,y) + 0.5*diff(uy_plot,x)\n",
    "Strain_plot = Matrix([[exx_plot, exy_plot], [exy_plot, eyy_plot]])\n",
    "display(Math(latex(r'\\varepsilon=') + latex(Strain_plot)))"
   ]
  },
  {
   "cell_type": "code",
   "execution_count": 27,
   "metadata": {
    "collapsed": false
   },
   "outputs": [
    {
     "data": {
      "text/latex": [
       "$$\\omega=\\left[\\begin{matrix}0 & 0.1\\\\-0.1 & 0\\end{matrix}\\right]$$"
      ],
      "text/plain": [
       "<IPython.core.display.Math object>"
      ]
     },
     "metadata": {},
     "output_type": "display_data"
    }
   ],
   "source": [
    "#Calculate the rotation\n",
    "wxy_plot = 0.5*diff(ux_plot,y) - 0.5*diff(uy_plot,x)\n",
    "Rot_plot = Matrix([[0, wxy_plot], [-wxy_plot, 0]])\n",
    "display(Math(latex(r'\\omega=') + latex(Rot_plot)))"
   ]
  },
  {
   "cell_type": "code",
   "execution_count": 51,
   "metadata": {
    "collapsed": false
   },
   "outputs": [
    {
     "data": {
      "image/png": "[encoded data removed]",
      "text/latex": [
       "$$\\left [ -0.5, \\quad 1.5, \\quad -0.5, \\quad 1.5\\right ]$$"
      ],
      "text/plain": [
       "[-0.5, 1.5, -0.5, 1.5]"
      ]
     },
     "execution_count": 51,
     "metadata": {},
     "output_type": "execute_result"
    },
    {
     "data": {
      "image/png": "[encoded data removed]",
      "text/plain": [
       "<matplotlib.figure.Figure at 0x10fe2fb00>"
      ]
     },
     "metadata": {},
     "output_type": "display_data"
    }
   ],
   "source": [
    "#Plot the square before and after deformation\n",
    "\n",
    "# Get a list of points in the square\n",
    "xp = linspace(0, 1, 25)\n",
    "yp = linspace(0, 1, 25)\n",
    "xv, yv = meshgrid(xp, yp)\n",
    "xv = reshape(xv, (625, 1))\n",
    "yv = reshape(yv, (625, 1))\n",
    "\n",
    "#Change the displacement from symbolic to numeric\n",
    "ux_num = lambdify((x, y), ux_plot, \"numpy\")\n",
    "uy_num = lambdify((x, y), uy_plot, \"numpy\")\n",
    "\n",
    "#Calculate the positions in the deformed configuration\n",
    "xd = xv + ux_num(xv, yv)\n",
    "yd = yv + uy_num(xv, yv)\n",
    "\n",
    "plot(xv, yv, 'b.', label=\"Undeformed\")\n",
    "plot(xd, yd, 'r.', label=\"Deformed\")\n",
    "legend(loc=2)\n",
    "axis([-0.5, 1.5, -0.5, 1.5])"
   ]
  },
  {
   "cell_type": "code",
   "execution_count": null,
   "metadata": {
    "collapsed": true
   },
   "outputs": [],
   "source": []
  }
 ],
 "metadata": {
  "anaconda-cloud": {},
  "kernelspec": {
   "display_name": "Python [Root]",
   "language": "python",
   "name": "Python [Root]"
  },
  "language_info": {
   "codemirror_mode": {
    "name": "ipython",
    "version": 3
   },
   "file_extension": ".py",
   "mimetype": "text/x-python",
   "name": "python",
   "nbconvert_exporter": "python",
   "pygments_lexer": "ipython3",
   "version": "3.5.2"
  }
 },
 "nbformat": 4,
 "nbformat_minor": 0
}
