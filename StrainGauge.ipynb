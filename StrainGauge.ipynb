{
 "cells": [
  {
   "cell_type": "markdown",
   "metadata": {},
   "source": [
    "## FEEG1002 - Statics 2\n",
    "\n",
    "## Strain Gauges\n",
    "\n",
    "### Dr. Davis  - fmd1f14@soton.ac.uk\n",
    "\n",
    "In this notebook, we're going to use Python/NumPy/Matplotlib to perform strain gauge calcuations. The Strain Gauge notebook uses the strain transformation equations from the stress and strain transformation notebook to perform strain gauge calculations. There are two other related notbooks that you should  visit related to stress and strain transformations **Stress and Strain Transformations** and **Mohr's Circle**. The Stress and Strain Transformation notebook will calculate the stresses and/or strain after a rotation about the $z$-axis. The Mohr's circle notebook will calculate the principals stresses (or strains) and plot Mohr's circle.  "
   ]
  },
  {
   "cell_type": "code",
   "execution_count": 1,
   "metadata": {
    "collapsed": false
   },
   "outputs": [
    {
     "name": "stdout",
     "output_type": "stream",
     "text": [
      "Populating the interactive namespace from numpy and matplotlib\n"
     ]
    }
   ],
   "source": [
    "# Load necessary functions\n",
    "%pylab inline"
   ]
  },
  {
   "cell_type": "markdown",
   "metadata": {},
   "source": [
    "##  Strain gauge equations\n",
    "\n",
    "For the three strain components $\\varepsilon_{xx}$, $\\varepsilon_{yy}$, and $\\varepsilon_{xy}$ to be computed at any point **three strain measurements are required**.  The strain gauge equations are derived from the strain transformation equations.  Consider a strain gauge at some angle $\\beta_1$ from the $x$-axis.\n",
    "<img src='strain_gauge.jpg' alt = 'Strain Gauge' width = \"500\">\n",
    "\n",
    "This strain gauge can be described as aligned with a axis $x'$.  To rotate the strain gaguge measurement from the $x'$ axis to the $x$ axis, the first strain transformation equation would be used.  This can be done using either the single angle:\n",
    "\n",
    "$$\n",
    "\\varepsilon'_{xx} = \\cos^2\\beta\\, \\varepsilon_{xx} + \\sin^2\\beta\\, \\varepsilon_{yy} + 2\\cos\\beta\\sin\\beta\\, \\varepsilon_{xy} \n",
    "$$\n",
    "\n",
    "or double angle equation:\n",
    "\n",
    "$$\n",
    "\\varepsilon'_{xx} = 1/2 \\left( \\left(1 + \\cos 2\\beta\\right) \\varepsilon_{xx} + \\left(1 - \\cos 2\\beta \\right) \\varepsilon_{yy} + 2\\sin 2\\beta\\, \\varepsilon_{xy} \\right) \\,.\n",
    "$$\n",
    "\n",
    "Repeating this process three times, one for each strain gauge, will create a system of three equations and three unknowns ($\\varepsilon_{xx}$, $\\varepsilon_{yy}$, and $\\varepsilon_{xy}$). When solving problems by hand, we use the method of substitution (or elmination of variables) (re-visit **Lecture 10**).  However when using computers we obtain the solution using matrix inversion.  For a deeper explaination look <a href='https://en.wikipedia.org/wiki/System_of_linear_equations#Solving_a_linear_system'>here</a>.  \n",
    "\n",
    "The code below takes in the three angles and the three strain gauge readings to calculate the strains in the $x-y$ coordinate system plane.  Note that the three angles, $\\beta_1$, $\\beta_2$, and $\\beta_3$ are all measured with respect to the $x$-axis.\n",
    "\n",
    "It may be useful to revisit the problems in **S2-Tutorial 2** on strain gauges using the code to check your answers.\n",
    "\n",
    "Below is the picture for the example problem included in the file.\n",
    "\n",
    "<img src='sg_exp.jpg' alt='Example strain gauge problem' width = \"300\">"
   ]
  },
  {
   "cell_type": "code",
   "execution_count": 2,
   "metadata": {
    "collapsed": true
   },
   "outputs": [],
   "source": [
    "# Input the strain gauge angles and their readings\n",
    "\n",
    "#Strain gauge readings and angles\n",
    "SG1 = 480\n",
    "SG2 = -120 \n",
    "SG3 = 80\n",
    "Beta1 = math.radians(-15) \n",
    "Beta2 = math.radians(30) \n",
    "Beta3 = math.radians(75)"
   ]
  },
  {
   "cell_type": "code",
   "execution_count": 3,
   "metadata": {
    "collapsed": false
   },
   "outputs": [
    {
     "name": "stdout",
     "output_type": "stream",
     "text": [
      "253.21\n",
      "306.79\n",
      "-446.41\n"
     ]
    }
   ],
   "source": [
    "# Calculate the three strain components\n",
    "\n",
    "#Vector of strain gauge readings\n",
    "EpsPrime = np.array([[SG1], [SG2], [SG3]])\n",
    "\n",
    "#Matrix of the three strain gauge equations\n",
    "TransformationMatrix = np.array([[cos(Beta1)**2, sin(Beta1)**2, 2*cos(Beta1)*sin(Beta1)],\n",
    "        [cos(Beta2)**2, sin(Beta2)**2, 2*cos(Beta2)*sin(Beta2)],\n",
    "        [cos(Beta3)**2, sin(Beta3)**2, 2*cos(Beta3)*sin(Beta3)] ])\n",
    "\n",
    "#Solve the three equations using matrix inversion\n",
    "IdentStrains = np.linalg.inv(TransformationMatrix).dot(EpsPrime)\n",
    "\n",
    "#Automatically round to two decimal places\n",
    "for i in range(3):\n",
    "    print('%.2f' % IdentStrains[i])\n",
    "    \n",
    "# Results in the order eps_xx, eps_yy, eps_xy"
   ]
  }
 ],
 "metadata": {
  "anaconda-cloud": {},
  "kernelspec": {
   "display_name": "Python [Root]",
   "language": "python",
   "name": "Python [Root]"
  },
  "language_info": {
   "codemirror_mode": {
    "name": "ipython",
    "version": 3
   },
   "file_extension": ".py",
   "mimetype": "text/x-python",
   "name": "python",
   "nbconvert_exporter": "python",
   "pygments_lexer": "ipython3",
   "version": "3.5.2"
  }
 },
 "nbformat": 4,
 "nbformat_minor": 0
}
