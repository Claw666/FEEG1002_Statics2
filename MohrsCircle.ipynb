{
 "cells": [
  {
   "cell_type": "markdown",
   "metadata": {},
   "source": [
    "## FEEG1002 - Statics 2\n",
    "\n",
    "## Mohr's Circle\n",
    "\n",
    "### Dr. Davis  - fmd1f14@soton.ac.uk\n",
    "\n",
    "In this notebook, we're going to use Python/NumPy/Matplotlib to examine Mohr's Circle. There are two other notbooks that you should visit related to stress and strain transformations <a href= 'StressTransformation.ipynb'>Stress and Strain Transformations</a> and <a href ='Strain Gauges.ipynb'>Strain Gauges</a>. The Stress and Strain Transformation notebook will calculate the stresses and/or strain after a rotation about the $z$-axis.  The Strain Gauge notebook uses the strain transformation equations from <a href= 'StressTransformation.ipynb'>the stress and strain transformation notebook</a> to perform strain gauge calculations."
   ]
  },
  {
   "cell_type": "code",
   "execution_count": 1,
   "metadata": {
    "collapsed": false
   },
   "outputs": [
    {
     "name": "stdout",
     "output_type": "stream",
     "text": [
      "Populating the interactive namespace from numpy and matplotlib\n"
     ]
    }
   ],
   "source": [
    "# Load necessary functions\n",
    "%pylab inline"
   ]
  },
  {
   "cell_type": "markdown",
   "metadata": {},
   "source": [
    "## Mohr's circle\n",
    "\n",
    "Mohr's circle is an alternative method to perform stress (or strain) rotations based on geometric considerations.  For the stress element shown on the left the resulting Mohr's circle is drawn on the right.\n",
    "\n",
    "<table>\n",
    "<tr>\n",
    "<td> <img src=\"GenStressState.jpg\" alt=\"General Stress State\" width=\"250\" height=\"236\"></td>\n",
    "<td> <img src=\"MohrsCircle.jpg\" alt=\"Mohr's Circle\" width=\"454\" height=\"500\"></td>\n",
    "</tr>\n",
    "</table>\n",
    "\n",
    "The two points where there is zero shear stress are refered to as the principal stresses and denoted $\\sigma_I$ and $\\sigma_{II}$.  The center of the circle is $\\frac{\\sigma_{I} + \\sigma_{II}}{2}$ which is also equal to $\\frac{\\sigma_{xx} + \\sigma_{yy}}{2}$ since the trace of the stress matrix is invariant:\n",
    "\n",
    "$$ \\mathrm{I}_1 = \\mathrm{tr}(\\sigma) = \\sigma_{xx} + \\sigma_{yy} = \\sigma_{I} + \\sigma_{II} \\,.$$ \n",
    "\n",
    "The radius, $R$, can easily be calculated using the Pythagorean theorem:\n",
    "\n",
    "\\begin{align}\n",
    "R^2 &= \\left( \\sigma_{xx} - \\left(\\frac{\\sigma_{xx} + \\sigma_{yy}}{2} \\right) \\right)^2 + \\left(\\sigma_{xy}\\right)^2 \\\\\n",
    "&= \\left( \\frac{\\sigma_{xx} - \\sigma_{yy}}{2} \\right)^2 + \\left(\\sigma_{xy}\\right)^2 \\,.\n",
    "\\end{align}\n",
    "\n",
    "Knowing the location of the center and the radius of the circle, the entire Mohr's circle can be constructed.  Remeber that since the equations for Mohr's circle were derived using the double angle formulas, see **Lecture 8**, the rotations on Mohr's circle are in terms of $2 \\theta$.\n",
    "\n",
    "One intersting property is that the planes of maximum shearing stress are located $45^\\circ$ from the principal planes.  This relationship can be used to derive the relationship between $E$, $\\nu$, and $G$ as shown <a href = 'IsotropicMatModel.pdf'> here </a>.\n",
    "\n",
    "The cells below take in a stress (or strain) matrix to plot Mohr's circle and calculate the principal stresses (or strains).  The input stress (strain) points are shown as yellow circles, the maximum shear stress as a blue square, and the principal stresses and red triangles.\n",
    "\n",
    "For more information on Mohr's circle revisit **Lecture 8**."
   ]
  },
  {
   "cell_type": "code",
   "execution_count": 2,
   "metadata": {
    "collapsed": true
   },
   "outputs": [],
   "source": [
    "# Input the stress (or strain) matrix \n",
    "\n",
    "#The stress or strain array is [sigma_xx, sigma_yy, sigma_xy]\n",
    "S_array = np.array([[50], [-10], [40]])"
   ]
  },
  {
   "cell_type": "code",
   "execution_count": 3,
   "metadata": {
    "collapsed": false
   },
   "outputs": [
    {
     "name": "stdout",
     "output_type": "stream",
     "text": [
      "Maximum principal stress (or strain): 70.00\n",
      "Miniumum principal stress (or strain): -30.00\n",
      "Maximum shear stress (or strain): 50.00\n",
      "The center of Mohrs circle is : 20.00\n"
     ]
    }
   ],
   "source": [
    "# Calculate the principal stresses (or strains)\n",
    "MaxPrincp = (S_array[0] + S_array[1])/2 + sqrt(((S_array[0] - S_array[1])/2)**2 + S_array[2]**2)\n",
    "MinPrincp = (S_array[0] + S_array[1])/2 - sqrt(((S_array[0] - S_array[1])/2)**2 + S_array[2]**2)\n",
    "MaxShear = sqrt(((S_array[0] - S_array[1])/2)**2 + S_array[2]**2)\n",
    "Center = (S_array[0]+ S_array[1])/2\n",
    "\n",
    "print('Maximum principal stress (or strain): %.2f' % MaxPrincp)\n",
    "print('Miniumum principal stress (or strain): %.2f' % MinPrincp)\n",
    "print('Maximum shear stress (or strain): %.2f' % MaxShear)\n",
    "print('The center of Mohr''s circle is : %.2f' % Center)"
   ]
  },
  {
   "cell_type": "code",
   "execution_count": 4,
   "metadata": {
    "collapsed": false
   },
   "outputs": [
    {
     "data": {
      "text/plain": [
       "(-40.0, 80.0, -60.0, 60.0)"
      ]
     },
     "execution_count": 4,
     "metadata": {},
     "output_type": "execute_result"
    },
    {
     "data": {
      "image/png": "[encoded data removed]",
      "text/plain": [
       "<matplotlib.figure.Figure at 0x10a7f81d0>"
      ]
     },
     "metadata": {},
     "output_type": "display_data"
    }
   ],
   "source": [
    "# Use the matrix values to plot Mohr's circle, highlight the input points\n",
    "\n",
    "angles = linspace(0, 360, 181)\n",
    "\n",
    "def mCirc_x(t):\n",
    "    return (S_array[0] + S_array[1])/2 + (S_array[0] - S_array[1])/2*cos(math.radians(t)*2) + S_array[2]*sin(math.radians(t)*2)\n",
    "\n",
    "f = vectorize(mCirc_x)\n",
    "\n",
    "def mCirc_y(t):\n",
    "    return -(S_array[0] - S_array[1])/2*sin(math.radians(t)*2) + S_array[2]*cos(math.radians(t)*2)\n",
    "\n",
    "g = vectorize(mCirc_y)\n",
    "\n",
    "plot(f(angles), g(angles), 'b', \n",
    "     S_array[0], -S_array[2], 'yo',\n",
    "     S_array[1], S_array[2], 'yo',\n",
    "     MaxPrincp, 0, 'r^', \n",
    "     MinPrincp, 0, 'r^',\n",
    "     (S_array[0]+ S_array[1])/2, MaxShear, 'bs',\n",
    "     (S_array[0]+ S_array[1])/2, -MaxShear, 'bs',\n",
    "     (S_array[0]+ S_array[1])/2, 0, 'co')\n",
    "#legend('Mohr''s circle', 'Input points', '', 'Principal stress', '', 'Max Shear', '', 'Center')\n",
    "xlabel('Normal axes')\n",
    "ylabel('Tangential axes')\n",
    "title('Mohr''s Circle')\n",
    "axis('equal')"
   ]
  }
 ],
 "metadata": {
  "anaconda-cloud": {},
  "kernelspec": {
   "display_name": "Python [Root]",
   "language": "python",
   "name": "Python [Root]"
  },
  "language_info": {
   "codemirror_mode": {
    "name": "ipython",
    "version": 3
   },
   "file_extension": ".py",
   "mimetype": "text/x-python",
   "name": "python",
   "nbconvert_exporter": "python",
   "pygments_lexer": "ipython3",
   "version": "3.5.2"
  }
 },
 "nbformat": 4,
 "nbformat_minor": 0
}
